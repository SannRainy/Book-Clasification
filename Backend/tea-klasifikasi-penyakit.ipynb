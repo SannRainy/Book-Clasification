{
 "cells": [
  {
   "cell_type": "code",
   "execution_count": null,
   "metadata": {
    "execution": {
     "iopub.execute_input": "2025-06-15T19:16:55.922057Z",
     "iopub.status.busy": "2025-06-15T19:16:55.921780Z",
     "iopub.status.idle": "2025-06-15T19:17:00.517613Z",
     "shell.execute_reply": "2025-06-15T19:17:00.516700Z",
     "shell.execute_reply.started": "2025-06-15T19:16:55.922033Z"
    },
    "trusted": true
   },
   "outputs": [],
   "source": [
    "!pip install -q split-folders"
   ]
  },
  {
   "cell_type": "code",
   "execution_count": null,
   "metadata": {
    "execution": {
     "iopub.execute_input": "2025-06-15T19:20:47.913189Z",
     "iopub.status.busy": "2025-06-15T19:20:47.912504Z",
     "iopub.status.idle": "2025-06-15T19:20:55.524598Z",
     "shell.execute_reply": "2025-06-15T19:20:55.523920Z",
     "shell.execute_reply.started": "2025-06-15T19:20:47.913156Z"
    },
    "trusted": true
   },
   "outputs": [],
   "source": [
    "import torch\n",
    "import torch.nn as nn\n",
    "from torch.optim import AdamW\n",
    "from torch.optim.lr_scheduler import CosineAnnealingLR\n",
    "from torch.utils.data import DataLoader\n",
    "from torchvision import datasets, models, transforms\n",
    "import os\n",
    "import splitfolders\n",
    "import copy"
   ]
  },
  {
   "cell_type": "code",
   "execution_count": null,
   "metadata": {
    "execution": {
     "iopub.execute_input": "2025-06-15T19:28:59.466381Z",
     "iopub.status.busy": "2025-06-15T19:28:59.465589Z",
     "iopub.status.idle": "2025-06-15T19:29:01.841527Z",
     "shell.execute_reply": "2025-06-15T19:29:01.840785Z",
     "shell.execute_reply.started": "2025-06-15T19:28:59.466346Z"
    },
    "trusted": true
   },
   "outputs": [],
   "source": [
    "\n",
    "input_folder = '/kaggle/input/identifying-disease-in-tea-leafs/tea sickness dataset' \n",
    "\n",
    "split_output_folder = '/kaggle/working/dataset_split'\n",
    "\n",
    "print(f\"Membagi dataset dari '{input_folder}'...\")\n",
    "\n",
    "if os.path.exists(split_output_folder):\n",
    "    os.system(f'rm -rf {split_output_folder}')\n",
    "    \n",
    "splitfolders.ratio(input_folder, output=split_output_folder, seed=42, ratio=(.8, .2))\n",
    "print(\"Pembagian dataset selesai.\")"
   ]
  },
  {
   "cell_type": "code",
   "execution_count": null,
   "metadata": {
    "execution": {
     "iopub.execute_input": "2025-06-15T19:30:03.468843Z",
     "iopub.status.busy": "2025-06-15T19:30:03.468344Z",
     "iopub.status.idle": "2025-06-15T19:30:03.480012Z",
     "shell.execute_reply": "2025-06-15T19:30:03.479445Z",
     "shell.execute_reply.started": "2025-06-15T19:30:03.468822Z"
    },
    "trusted": true
   },
   "outputs": [],
   "source": [
    "# --- Konfigurasi Training ---\n",
    "DATA_DIR = '/kaggle/working/dataset_split'\n",
    "MODEL_SAVE_PATH = '/kaggle/working/cnn_tea_disease_classifier.pth'\n",
    "CLASS_NAMES_SAVE_PATH = '/kaggle/working/class_names.txt'\n",
    "NUM_EPOCHS = 25\n",
    "BATCH_SIZE = 32\n",
    "LEARNING_RATE = 1e-4\n",
    "WEIGHT_DECAY = 0.01\n",
    "IMAGE_SIZE = 224\n",
    "\n",
    "# --- Transformasi Data ---\n",
    "train_transform = transforms.Compose([\n",
    "    transforms.RandomResizedCrop(IMAGE_SIZE, scale=(0.8, 1.0)),\n",
    "    transforms.RandomRotation(20),\n",
    "    transforms.RandomHorizontalFlip(),\n",
    "    transforms.ColorJitter(brightness=0.2, contrast=0.2, saturation=0.2),\n",
    "    transforms.ToTensor(),\n",
    "    transforms.Normalize(mean=[0.485, 0.456, 0.406], std=[0.229, 0.224, 0.225])\n",
    "])\n",
    "\n",
    "val_transform = transforms.Compose([\n",
    "    transforms.Resize(IMAGE_SIZE),\n",
    "    transforms.CenterCrop(IMAGE_SIZE),\n",
    "    transforms.ToTensor(),\n",
    "    transforms.Normalize(mean=[0.485, 0.456, 0.406], std=[0.229, 0.224, 0.225])\n",
    "])\n",
    "\n",
    "# --- Membuat DataLoader ---\n",
    "train_dataset = datasets.ImageFolder(root=os.path.join(DATA_DIR, 'train'), transform=train_transform)\n",
    "val_dataset = datasets.ImageFolder(root=os.path.join(DATA_DIR, 'val'), transform=val_transform)\n",
    "\n",
    "train_loader = DataLoader(train_dataset, batch_size=BATCH_SIZE, shuffle=True, num_workers=2)\n",
    "val_loader = DataLoader(val_dataset, batch_size=BATCH_SIZE, shuffle=False, num_workers=2)\n",
    "\n",
    "class_names = train_dataset.classes\n",
    "num_classes = len(class_names)\n",
    "\n",
    "print(\"DataLoader dan transformasi siap.\")\n",
    "print(f\"Jumlah kelas terdeteksi: {num_classes} -> {class_names}\")"
   ]
  },
  {
   "cell_type": "code",
   "execution_count": null,
   "metadata": {
    "execution": {
     "iopub.execute_input": "2025-06-15T19:30:26.889729Z",
     "iopub.status.busy": "2025-06-15T19:30:26.889164Z",
     "iopub.status.idle": "2025-06-15T19:30:28.221460Z",
     "shell.execute_reply": "2025-06-15T19:30:28.220807Z",
     "shell.execute_reply.started": "2025-06-15T19:30:26.889706Z"
    },
    "trusted": true
   },
   "outputs": [],
   "source": [
    "# --- Inisialisasi Device ---\n",
    "device = torch.device(\"cuda\" if torch.cuda.is_available() else \"cpu\")\n",
    "print(f\"Menggunakan device: {device}\")\n",
    "\n",
    "# --- Inisialisasi Model (ResNet50) ---\n",
    "model = models.resnet50(weights=models.ResNet50_Weights.DEFAULT)\n",
    "num_ftrs = model.fc.in_features\n",
    "model.fc = nn.Sequential(\n",
    "    nn.Dropout(p=0.5),\n",
    "    nn.Linear(num_ftrs, num_classes)\n",
    ")\n",
    "model = model.to(device)\n",
    "\n",
    "# --- Inisialisasi Komponen Training ---\n",
    "optimizer = AdamW(model.parameters(), lr=LEARNING_RATE, weight_decay=WEIGHT_DECAY)\n",
    "criterion = nn.CrossEntropyLoss()\n",
    "scheduler = CosineAnnealingLR(optimizer, T_max=NUM_EPOCHS)\n",
    "\n",
    "print(\"Model, optimizer, dan loss function siap.\")"
   ]
  },
  {
   "cell_type": "code",
   "execution_count": null,
   "metadata": {
    "execution": {
     "iopub.execute_input": "2025-06-15T19:30:46.793992Z",
     "iopub.status.busy": "2025-06-15T19:30:46.793758Z",
     "iopub.status.idle": "2025-06-15T19:46:51.026036Z",
     "shell.execute_reply": "2025-06-15T19:46:51.024975Z",
     "shell.execute_reply.started": "2025-06-15T19:30:46.793978Z"
    },
    "trusted": true
   },
   "outputs": [],
   "source": [
    "# --- Training Loop ---\n",
    "print(\"\\n--- MEMULAI TRAINING MODEL ---\")\n",
    "best_accuracy = 0.0\n",
    "\n",
    "for epoch in range(NUM_EPOCHS):\n",
    "    model.train()\n",
    "    total_train_loss = 0\n",
    "    for images, labels in train_loader:\n",
    "        images, labels = images.to(device), labels.to(device)\n",
    "        outputs = model(images)\n",
    "        loss = criterion(outputs, labels)\n",
    "        optimizer.zero_grad(); loss.backward(); optimizer.step()\n",
    "        total_train_loss += loss.item()\n",
    "    \n",
    "    avg_train_loss = total_train_loss / len(train_loader)\n",
    "    \n",
    "    model.eval()\n",
    "    correct, total = 0, 0\n",
    "    with torch.no_grad():\n",
    "        for images, labels in val_loader:\n",
    "            images, labels = images.to(device), labels.to(device)\n",
    "            outputs = model(images)\n",
    "            _, predicted = torch.max(outputs.data, 1)\n",
    "            total += labels.size(0)\n",
    "            correct += (predicted == labels).sum().item()\n",
    "    \n",
    "    accuracy = 100 * correct / total\n",
    "    print(f\"Epoch [{epoch+1}/{NUM_EPOCHS}], Train Loss: {avg_train_loss:.4f}, Val Accuracy: {accuracy:.2f}%\")\n",
    "    \n",
    "    # Simpan model hanya jika akurasinya lebih baik\n",
    "    if accuracy > best_accuracy:\n",
    "        best_accuracy = accuracy\n",
    "        torch.save(model.state_dict(), MODEL_SAVE_PATH)\n",
    "        print(f\"    -> Akurasi meningkat, model disimpan.\")\n",
    "\n",
    "    scheduler.step()\n",
    "\n",
    "print(f\"\\n--- Training Selesai. Akurasi terbaik yang disimpan: {best_accuracy:.2f}% ---\")"
   ]
  },
  {
   "cell_type": "code",
   "execution_count": null,
   "metadata": {
    "execution": {
     "iopub.execute_input": "2025-06-15T19:57:00.783722Z",
     "iopub.status.busy": "2025-06-15T19:57:00.783149Z",
     "iopub.status.idle": "2025-06-15T19:57:00.789014Z",
     "shell.execute_reply": "2025-06-15T19:57:00.788433Z",
     "shell.execute_reply.started": "2025-06-15T19:57:00.783693Z"
    },
    "trusted": true
   },
   "outputs": [],
   "source": [
    "with open(CLASS_NAMES_SAVE_PATH, 'w') as f:\n",
    "    for item in class_names:\n",
    "        f.write(\"%s\\n\" % item)\n",
    "\n",
    "print(f\"Model disimpan di: {MODEL_SAVE_PATH}\")\n",
    "print(f\"Nama kelas disimpan di: {CLASS_NAMES_SAVE_PATH}\")"
   ]
  }
 ],
 "metadata": {
  "kaggle": {
   "accelerator": "nvidiaTeslaT4",
   "dataSources": [
    {
     "datasetId": 2201659,
     "sourceId": 3678857,
     "sourceType": "datasetVersion"
    }
   ],
   "isGpuEnabled": true,
   "isInternetEnabled": true,
   "language": "python",
   "sourceType": "notebook"
  },
  "kernelspec": {
   "display_name": "Python 3",
   "language": "python",
   "name": "python3"
  },
  "language_info": {
   "codemirror_mode": {
    "name": "ipython",
    "version": 3
   },
   "file_extension": ".py",
   "mimetype": "text/x-python",
   "name": "python",
   "nbconvert_exporter": "python",
   "pygments_lexer": "ipython3",
   "version": "3.11.11"
  }
 },
 "nbformat": 4,
 "nbformat_minor": 4
}
